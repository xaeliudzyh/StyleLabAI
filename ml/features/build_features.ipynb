{
 "cells": [
  {
   "cell_type": "code",
   "id": "initial_id",
   "metadata": {
    "collapsed": true,
    "ExecuteTime": {
     "end_time": "2025-05-25T22:20:48.820582Z",
     "start_time": "2025-05-25T22:20:48.817025Z"
    }
   },
   "source": [
    "import torch\n",
    "import torch.nn as nn\n",
    "import torch.optim as optim\n",
    "import torch.nn.functional as F\n",
    "import numpy as np\n",
    "import matplotlib.pyplot as plt\n",
    "from tqdm.notebook import tqdm\n",
    "import pandas as pd"
   ],
   "outputs": [],
   "execution_count": 3
  },
  {
   "metadata": {
    "ExecuteTime": {
     "end_time": "2025-05-25T22:20:48.869284Z",
     "start_time": "2025-05-25T22:20:48.839573Z"
    }
   },
   "cell_type": "code",
   "source": [
    "raw_data = pd.read_csv('../datasets/raw/raw_salon_data.csv')\n",
    "raw_data.drop(columns='Отметка времени', inplace=True)\n",
    "synthetic_data = pd.read_csv('../datasets/synthetic/generated_salon_data_contextual_v2_4000.csv')\n",
    "raw_data.rename(columns={'Пожалуйста, выберите вариант стрижки, а ниже заполните анкету исходя из опыта - параметры клиента, которого вы стригли одним из приведенных способов':'Прическа'}, inplace=True)\n",
    "df = pd.concat([raw_data, synthetic_data])\n",
    "#df = pd.concat([df, synthetic_data_4000])\n",
    "df.drop(columns=['Unnamed: 16', 'Unnamed: 17', 'Unnamed: 18'], inplace=True)"
   ],
   "id": "bcc1caf5cd28d1bf",
   "outputs": [],
   "execution_count": 4
  },
  {
   "metadata": {
    "ExecuteTime": {
     "end_time": "2025-05-25T22:20:48.921401Z",
     "start_time": "2025-05-25T22:20:48.901700Z"
    }
   },
   "cell_type": "code",
   "source": [
    "df.drop_duplicates(inplace=True)\n",
    "df.head()\n",
    "#raw_data"
   ],
   "id": "64dae57ef7cececc",
   "outputs": [
    {
     "data": {
      "text/plain": [
       "             Прическа Возраст     Форма Лица Структура волос Густота волос  \\\n",
       "0            Андеркат   19-28  Прямоугольная          Прямые       Средняя   \n",
       "1              Каскад   19-28        Круглая          Прямые       Средняя   \n",
       "2  Серферская укладка   29-45     Квадратная       Волнистые       Средняя   \n",
       "3            Классика   29-45       Овальная       Волнистые       Средняя   \n",
       "4            Классика   29-45     Квадратная       Волнистые       Средняя   \n",
       "\n",
       "  Длина волос Цвет волос Среднее время на укладку(минут в день) Образ жизни  \\\n",
       "0     Средние      Шатен                                    3-5     Деловой   \n",
       "1     Средние      Рыжий                              25 минут    Спокойный   \n",
       "2     Средние      Шатен                              30 минут   Творческий   \n",
       "3     Средние     Брюнет                                     20     Деловой   \n",
       "4    Короткие      Шатен                      0(не укладываете)   Спокойный   \n",
       "\n",
       "             Стиль Телосложение Стиль одежды Использование укладочных средств  \\\n",
       "0        Смешанный   Спортивное   Спортивный                               Да   \n",
       "1       Минималист      Среднее       Casual                               Да   \n",
       "2  Экспериментатор    Худощавое   Спортивный                               Да   \n",
       "3       Минималист      Плотное      Деловой                               Да   \n",
       "4       Минималист      Среднее      Уличный                              Нет   \n",
       "\n",
       "              Тип укладки Использование фена  \n",
       "0  Неряшливо-растрепанная                 Да  \n",
       "1            Естественная                 Да  \n",
       "2  Неряшливо-растрепанная                 Да  \n",
       "3            Естественная                 Да  \n",
       "4            Естественная                Нет  "
      ],
      "text/html": [
       "<div>\n",
       "<style scoped>\n",
       "    .dataframe tbody tr th:only-of-type {\n",
       "        vertical-align: middle;\n",
       "    }\n",
       "\n",
       "    .dataframe tbody tr th {\n",
       "        vertical-align: top;\n",
       "    }\n",
       "\n",
       "    .dataframe thead th {\n",
       "        text-align: right;\n",
       "    }\n",
       "</style>\n",
       "<table border=\"1\" class=\"dataframe\">\n",
       "  <thead>\n",
       "    <tr style=\"text-align: right;\">\n",
       "      <th></th>\n",
       "      <th>Прическа</th>\n",
       "      <th>Возраст</th>\n",
       "      <th>Форма Лица</th>\n",
       "      <th>Структура волос</th>\n",
       "      <th>Густота волос</th>\n",
       "      <th>Длина волос</th>\n",
       "      <th>Цвет волос</th>\n",
       "      <th>Среднее время на укладку(минут в день)</th>\n",
       "      <th>Образ жизни</th>\n",
       "      <th>Стиль</th>\n",
       "      <th>Телосложение</th>\n",
       "      <th>Стиль одежды</th>\n",
       "      <th>Использование укладочных средств</th>\n",
       "      <th>Тип укладки</th>\n",
       "      <th>Использование фена</th>\n",
       "    </tr>\n",
       "  </thead>\n",
       "  <tbody>\n",
       "    <tr>\n",
       "      <th>0</th>\n",
       "      <td>Андеркат</td>\n",
       "      <td>19-28</td>\n",
       "      <td>Прямоугольная</td>\n",
       "      <td>Прямые</td>\n",
       "      <td>Средняя</td>\n",
       "      <td>Средние</td>\n",
       "      <td>Шатен</td>\n",
       "      <td>3-5</td>\n",
       "      <td>Деловой</td>\n",
       "      <td>Смешанный</td>\n",
       "      <td>Спортивное</td>\n",
       "      <td>Спортивный</td>\n",
       "      <td>Да</td>\n",
       "      <td>Неряшливо-растрепанная</td>\n",
       "      <td>Да</td>\n",
       "    </tr>\n",
       "    <tr>\n",
       "      <th>1</th>\n",
       "      <td>Каскад</td>\n",
       "      <td>19-28</td>\n",
       "      <td>Круглая</td>\n",
       "      <td>Прямые</td>\n",
       "      <td>Средняя</td>\n",
       "      <td>Средние</td>\n",
       "      <td>Рыжий</td>\n",
       "      <td>25 минут</td>\n",
       "      <td>Спокойный</td>\n",
       "      <td>Минималист</td>\n",
       "      <td>Среднее</td>\n",
       "      <td>Casual</td>\n",
       "      <td>Да</td>\n",
       "      <td>Естественная</td>\n",
       "      <td>Да</td>\n",
       "    </tr>\n",
       "    <tr>\n",
       "      <th>2</th>\n",
       "      <td>Серферская укладка</td>\n",
       "      <td>29-45</td>\n",
       "      <td>Квадратная</td>\n",
       "      <td>Волнистые</td>\n",
       "      <td>Средняя</td>\n",
       "      <td>Средние</td>\n",
       "      <td>Шатен</td>\n",
       "      <td>30 минут</td>\n",
       "      <td>Творческий</td>\n",
       "      <td>Экспериментатор</td>\n",
       "      <td>Худощавое</td>\n",
       "      <td>Спортивный</td>\n",
       "      <td>Да</td>\n",
       "      <td>Неряшливо-растрепанная</td>\n",
       "      <td>Да</td>\n",
       "    </tr>\n",
       "    <tr>\n",
       "      <th>3</th>\n",
       "      <td>Классика</td>\n",
       "      <td>29-45</td>\n",
       "      <td>Овальная</td>\n",
       "      <td>Волнистые</td>\n",
       "      <td>Средняя</td>\n",
       "      <td>Средние</td>\n",
       "      <td>Брюнет</td>\n",
       "      <td>20</td>\n",
       "      <td>Деловой</td>\n",
       "      <td>Минималист</td>\n",
       "      <td>Плотное</td>\n",
       "      <td>Деловой</td>\n",
       "      <td>Да</td>\n",
       "      <td>Естественная</td>\n",
       "      <td>Да</td>\n",
       "    </tr>\n",
       "    <tr>\n",
       "      <th>4</th>\n",
       "      <td>Классика</td>\n",
       "      <td>29-45</td>\n",
       "      <td>Квадратная</td>\n",
       "      <td>Волнистые</td>\n",
       "      <td>Средняя</td>\n",
       "      <td>Короткие</td>\n",
       "      <td>Шатен</td>\n",
       "      <td>0(не укладываете)</td>\n",
       "      <td>Спокойный</td>\n",
       "      <td>Минималист</td>\n",
       "      <td>Среднее</td>\n",
       "      <td>Уличный</td>\n",
       "      <td>Нет</td>\n",
       "      <td>Естественная</td>\n",
       "      <td>Нет</td>\n",
       "    </tr>\n",
       "  </tbody>\n",
       "</table>\n",
       "</div>"
      ]
     },
     "execution_count": 5,
     "metadata": {},
     "output_type": "execute_result"
    }
   ],
   "execution_count": 5
  },
  {
   "metadata": {
    "ExecuteTime": {
     "end_time": "2025-05-25T22:20:48.978602Z",
     "start_time": "2025-05-25T22:20:48.974064Z"
    }
   },
   "cell_type": "code",
   "source": "df.columns",
   "id": "ced8758b81cd90b7",
   "outputs": [
    {
     "data": {
      "text/plain": [
       "Index(['Прическа', 'Возраст', 'Форма Лица', 'Структура волос', 'Густота волос',\n",
       "       'Длина волос', 'Цвет волос', 'Среднее время на укладку(минут в день)',\n",
       "       'Образ жизни', 'Стиль', 'Телосложение', 'Стиль одежды',\n",
       "       'Использование укладочных средств', 'Тип укладки',\n",
       "       'Использование фена'],\n",
       "      dtype='object')"
      ]
     },
     "execution_count": 6,
     "metadata": {},
     "output_type": "execute_result"
    }
   ],
   "execution_count": 6
  },
  {
   "metadata": {
    "ExecuteTime": {
     "end_time": "2025-05-25T22:20:49.098118Z",
     "start_time": "2025-05-25T22:20:49.091836Z"
    }
   },
   "cell_type": "code",
   "source": [
    "from typing import Union\n",
    "import re\n",
    "import numpy as np\n",
    "import pandas as pd\n",
    "\n",
    "def preprocessing(df):\n",
    "    df = df[df['Цвет волос']!='Любой']\n",
    "    df = df[df['Цвет волос']!='Любой ']\n",
    "    df = df[df['Цвет волос']!='Other']\n",
    "    df = df[df['Стиль одежды']!='Полу классика']\n",
    "    df = df[df['Стиль одежды']!='Любой']\n",
    "    df = df[df['Форма Лица']!='Овальная;Круглая;Квадратная']\n",
    "\n",
    "    def bucket_style_time(val: str) -> Union[str, float]:\n",
    "        if pd.isna(val):\n",
    "            return np.nan\n",
    "        s = str(val).lower().strip()\n",
    "\n",
    "        # «0 (не укладываете)»\n",
    "        if re.search(r'\\b0\\b', s) and 'не' in s:\n",
    "            return \"0\"\n",
    "\n",
    "        # все числа в строке\n",
    "        nums = [int(n) for n in re.findall(r'\\d+', s)]\n",
    "        if not nums:\n",
    "            return np.nan\n",
    "\n",
    "        t = sum(nums[:2]) / 2 if '-' in s else nums[0]\n",
    "\n",
    "        if t == 0:\n",
    "            return \"0\"\n",
    "        elif t < 10:\n",
    "            return \"1-10\"\n",
    "        elif t < 30:\n",
    "            return \"10-30\"\n",
    "        else:\n",
    "            return \"30+\"\n",
    "\n",
    "    df['Среднее время на укладку(минут в день)'] = (\n",
    "        df['Среднее время на укладку(минут в день)'].apply(bucket_style_time)\n",
    "    )\n",
    "\n",
    "    def normalize_style(val: Union[str, float]) -> Union[str, float]:\n",
    "        \"\"\"\n",
    "        Приводит к четырём каноническим значениям:\n",
    "        «Неряшливо-растрёпанная», «Естественная», «Чёткая-монолитная», «Other»\n",
    "        \"\"\"\n",
    "        if pd.isna(val):\n",
    "            return np.nan\n",
    "\n",
    "        s = str(val).lower().replace('ё', 'е').strip()\n",
    "        s = re.sub(r'\\s+', ' ', s)          # много пробелов -> один\n",
    "        s = re.sub(r'[–—−-]', '-', s)       # тире разных типов -> дефис\n",
    "\n",
    "        if 'неряш' in s or 'растр' in s:\n",
    "            return 'Неряшливо-растрёпанная'\n",
    "        if 'естествен' in s:\n",
    "            return 'Естественная'\n",
    "        if 'четк' in s or 'монолит' in s or 'monolit' in s:\n",
    "            return 'Чёткая-монолитная'\n",
    "        return 'Other'\n",
    "\n",
    "    df['Тип укладки'] = df['Тип укладки'].apply(normalize_style)\n",
    "\n",
    "    return df"
   ],
   "id": "732f0b50a2e6f2a4",
   "outputs": [],
   "execution_count": 7
  },
  {
   "metadata": {
    "ExecuteTime": {
     "end_time": "2025-05-25T22:20:49.228094Z",
     "start_time": "2025-05-25T22:20:49.194332Z"
    }
   },
   "cell_type": "code",
   "source": "df = preprocessing(df)",
   "id": "fc39d9d01fddd4ec",
   "outputs": [],
   "execution_count": 8
  },
  {
   "metadata": {
    "ExecuteTime": {
     "end_time": "2025-05-25T22:20:49.288324Z",
     "start_time": "2025-05-25T22:20:49.265293Z"
    }
   },
   "cell_type": "code",
   "source": "df.to_csv('../datasets/processed/processed_salon_data.csv', index=False)",
   "id": "813b2180eaee504",
   "outputs": [],
   "execution_count": 9
  },
  {
   "metadata": {
    "ExecuteTime": {
     "end_time": "2025-05-25T22:20:49.323221Z",
     "start_time": "2025-05-25T22:20:49.320784Z"
    }
   },
   "cell_type": "code",
   "source": "",
   "id": "95c4a27482b3a85a",
   "outputs": [],
   "execution_count": null
  }
 ],
 "metadata": {
  "kernelspec": {
   "display_name": "Python 3",
   "language": "python",
   "name": "python3"
  },
  "language_info": {
   "codemirror_mode": {
    "name": "ipython",
    "version": 2
   },
   "file_extension": ".py",
   "mimetype": "text/x-python",
   "name": "python",
   "nbconvert_exporter": "python",
   "pygments_lexer": "ipython2",
   "version": "2.7.6"
  }
 },
 "nbformat": 4,
 "nbformat_minor": 5
}
