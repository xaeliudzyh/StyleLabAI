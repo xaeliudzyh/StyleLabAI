{
 "cells": [
  {
   "cell_type": "code",
   "id": "initial_id",
   "metadata": {
    "collapsed": true,
    "ExecuteTime": {
     "end_time": "2025-05-26T03:52:55.961958Z",
     "start_time": "2025-05-26T03:52:52.733624Z"
    }
   },
   "source": [
    "import torch\n",
    "import torch.nn as nn\n",
    "import torch.optim as optim\n",
    "import torch.nn.functional as F\n",
    "import numpy as np\n",
    "import matplotlib.pyplot as plt\n",
    "from sklearn.model_selection import train_test_split\n",
    "from torch.utils.data import Dataset, DataLoader\n",
    "from tqdm.notebook import tqdm\n",
    "import pandas as pd"
   ],
   "outputs": [],
   "execution_count": 2
  },
  {
   "metadata": {},
   "cell_type": "code",
   "source": [
    "import random\n",
    "import joblib\n",
    "import os\n",
    "from sklearn.preprocessing import OrdinalEncoder, LabelEncoder\n",
    "\n",
    "SEED = 42\n",
    "random.seed(SEED); np.random.seed(SEED); torch.manual_seed(SEED)\n",
    "PATH = '../datasets/processed/combined_salon_data_bootstrap_6000.csv'\n",
    "TARGET = 'Прическа'\n",
    "df = pd.read_csv(PATH)\n",
    "cat_cols = [c for c in df.columns if c != TARGET]"
   ],
   "id": "119bc9bfb4e8fb86",
   "outputs": [],
   "execution_count": null
  },
  {
   "metadata": {},
   "cell_type": "code",
   "outputs": [
    {
     "data": {
      "text/plain": [
       "['ml/artifacts/label_encoder.joblib']"
      ]
     },
     "execution_count": 9,
     "metadata": {},
     "output_type": "execute_result"
    }
   ],
   "execution_count": 9,
   "source": [
    "ord_enc = OrdinalEncoder( dtype=np.int64, handle_unknown=\"use_encoded_value\", unknown_value=-1 )\n",
    "X = ord_enc.fit_transform(df[cat_cols])\n",
    "lbl_enc = LabelEncoder()\n",
    "y = lbl_enc.fit_transform(df[TARGET]).astype(np.int64)\n",
    "\n",
    "os.makedirs(\"../artifacts\", exist_ok=True)\n",
    "joblib.dump(ord_enc, \"../artifacts/feature_encoder.joblib\")\n",
    "joblib.dump(lbl_enc, \"../artifacts/label_encoder.joblib\")"
   ],
   "id": "f062107b574465a6"
  },
  {
   "metadata": {
    "ExecuteTime": {
     "end_time": "2025-05-25T23:59:08.938134Z",
     "start_time": "2025-05-25T23:59:08.928399Z"
    }
   },
   "cell_type": "code",
   "source": [
    "X_train, X_test, y_train, y_test = train_test_split(X, y, test_size=0.2, random_state=42, stratify=y, shuffle=True)\n",
    "\n",
    "class SalonDataset(Dataset):\n",
    "    def __init__(self, X, y):\n",
    "        self.X = torch.as_tensor(X)\n",
    "        self.y = torch.as_tensor(y)\n",
    "\n",
    "    def __len__(self):\n",
    "        return self.y.size(0)\n",
    "\n",
    "    def __getitem__(self, idx):\n",
    "        return self.X[idx], self.y[idx]\n",
    "BATCH_SIZE = 32\n",
    "\n",
    "train_loader = DataLoader(SalonDataset(X_train, y_train), batch_size=BATCH_SIZE, shuffle=True)\n",
    "test_loader = DataLoader(SalonDataset(X_test, y_test), batch_size=BATCH_SIZE, shuffle=True)"
   ],
   "id": "32af1f333e86d5c2",
   "outputs": [],
   "execution_count": 10
  },
  {
   "metadata": {
    "ExecuteTime": {
     "end_time": "2025-05-26T01:04:16.990066Z",
     "start_time": "2025-05-26T01:04:16.967375Z"
    }
   },
   "cell_type": "code",
   "source": "DEVICE = \"cuda\" if torch.cuda.is_available() else \"cpu\"",
   "id": "716f1a55798f5858",
   "outputs": [],
   "execution_count": 30
  },
  {
   "metadata": {
    "ExecuteTime": {
     "end_time": "2025-05-26T01:04:17.897614Z",
     "start_time": "2025-05-26T01:04:17.887973Z"
    }
   },
   "cell_type": "code",
   "source": [
    "import collections\n",
    "import torch, torch.nn.functional as F\n",
    "from sklearn.metrics import accuracy_score, f1_score\n",
    "from tqdm.auto import tqdm\n",
    "\n",
    "# ───────────────── helper ─────────────────\n",
    "def top_k_acc(logits: torch.Tensor, y: torch.Tensor, k: int = 3) -> float:\n",
    "    \"\"\"Top-k accuracy (k=3 по умолчанию).\"\"\"\n",
    "    topk = logits.topk(k, dim=1).indices          # [B,k]\n",
    "    return (topk == y[:, None]).any(1).float().mean().item()\n",
    "\n",
    "# ───────────────── training loop ─────────────────\n",
    "def train_with_top3(model, train_loader, val_loader,\n",
    "                    criterion, optimizer, scheduler=None,\n",
    "                    epochs: int = 30, device: str = \"cuda\",\n",
    "                    patience: int = 6):\n",
    "    \"\"\"Обучает модель и выводит Top-3 accuracy.\n",
    "\n",
    "    Возвращает: history (dict) с loss, acc, f1, top3.\n",
    "    \"\"\"\n",
    "    history = collections.defaultdict(list)\n",
    "    best_loss, bad_epochs = float(\"inf\"), 0\n",
    "\n",
    "    for ep in range(1, epochs + 1):\n",
    "        # -------- train --------\n",
    "        model.train()\n",
    "        t_loss, t_ok, n = 0.0, 0, 0\n",
    "        for xb, yb in tqdm(train_loader, desc=f\"train {ep:02d}\", leave=False):\n",
    "            xb, yb = xb.to(device, non_blocking=True), yb.to(device, non_blocking=True)\n",
    "            optimizer.zero_grad()\n",
    "\n",
    "            logits = model(xb)\n",
    "            loss   = criterion(logits, yb)\n",
    "            loss.backward()\n",
    "            torch.nn.utils.clip_grad_norm_(model.parameters(), 5.)\n",
    "            optimizer.step()\n",
    "\n",
    "            t_loss += loss.item() * yb.size(0)\n",
    "            t_ok   += (logits.argmax(1) == yb).sum().item()\n",
    "            n      += yb.size(0)\n",
    "\n",
    "        # -------- validate --------\n",
    "        model.eval()\n",
    "        v_loss, y_true, y_pred, y_logits = 0.0, [], [], []\n",
    "        with torch.no_grad():\n",
    "            for xb, yb in tqdm(val_loader, desc=\"valid\", leave=False):\n",
    "                xb, yb = xb.to(device, non_blocking=True), yb.to(device, non_blocking=True)\n",
    "                logits = model(xb)\n",
    "\n",
    "                v_loss += criterion(logits, yb).item() * yb.size(0)\n",
    "                y_true.extend(yb.cpu().tolist())\n",
    "                y_pred.extend(logits.argmax(1).cpu().tolist())\n",
    "                y_logits.append(logits.cpu())\n",
    "\n",
    "        y_logits = torch.cat(y_logits)\n",
    "        val_acc  = accuracy_score(y_true, y_pred)\n",
    "        val_f1   = f1_score(y_true, y_pred, average=\"macro\")\n",
    "        val_top3 = top_k_acc(y_logits, torch.tensor(y_true), k=3)\n",
    "\n",
    "        # -------- bookkeeping --------\n",
    "        history[\"train_loss\"].append(t_loss / n)\n",
    "        history[\"val_loss\"].append(v_loss / len(y_true))\n",
    "        history[\"train_acc\"].append(t_ok / n)\n",
    "        history[\"val_acc\"].append(val_acc)\n",
    "        history[\"val_f1\"].append(val_f1)\n",
    "        history[\"val_top3\"].append(val_top3)\n",
    "\n",
    "        print(f\"Ep {ep:02d} | \"\n",
    "              f\"loss T/V {t_loss/n:.3f}/{v_loss/len(y_true):.3f} | \"\n",
    "              f\"acc T/V {t_ok/n:.3f}/{val_acc:.3f} | \"\n",
    "              f\"F1 {val_f1:.3f} | Top-3 {val_top3:.3f}\")\n",
    "\n",
    "        # scheduler & early-stop\n",
    "        if scheduler: scheduler.step(v_loss / len(y_true))\n",
    "        if v_loss < best_loss - 1e-4:\n",
    "            best_loss, bad_epochs = v_loss, 0\n",
    "            torch.save(model.state_dict(), \"../artifacts/best_model.pt\")\n",
    "        else:\n",
    "            bad_epochs += 1\n",
    "            if bad_epochs >= patience:\n",
    "                print(\"⏹ early stopping\")\n",
    "                break\n",
    "\n",
    "    return history\n"
   ],
   "id": "972672d954de54c4",
   "outputs": [],
   "execution_count": 31
  },
  {
   "metadata": {
    "ExecuteTime": {
     "end_time": "2025-05-26T02:33:56.036575Z",
     "start_time": "2025-05-26T02:33:56.031783Z"
    }
   },
   "cell_type": "code",
   "source": [
    "import matplotlib.pyplot as plt\n",
    "\n",
    "def plot_history(history):\n",
    "    \"\"\"\n",
    "    Построить графики метрик обучения.\n",
    "\n",
    "    Параметры:\n",
    "        history (dict): словарь с ключами\n",
    "            'train_loss', 'test_loss',\n",
    "            'train_acc', 'test_acc', 'test_f1'\n",
    "            и списками значений на каждую эпоху.\n",
    "    \"\"\"\n",
    "    epochs = list(range(1, len(history['train_loss']) + 1))\n",
    "\n",
    "    # 1) Loss\n",
    "    plt.figure()\n",
    "    plt.plot(epochs, history['train_loss'], label='train_loss')\n",
    "    plt.plot(epochs, history['val_loss'],  label='test_loss')\n",
    "    plt.xlabel('Эпоха')\n",
    "    plt.ylabel('Loss')\n",
    "    plt.title('Train vs Test Loss')\n",
    "    plt.legend()\n",
    "    plt.show()\n",
    "\n",
    "    # 2) Accuracy\n",
    "    plt.figure()\n",
    "    plt.plot(epochs, history['train_acc'], label='train_acc')\n",
    "    plt.plot(epochs, history['val_acc'],  label='test_acc')\n",
    "    plt.xlabel('Эпоха')\n",
    "    plt.ylabel('Accuracy')\n",
    "    plt.title('Train vs Test Accuracy')\n",
    "    plt.legend()\n",
    "    plt.show()\n",
    "\n",
    "    # 3) Macro F1\n",
    "    plt.figure()\n",
    "    plt.plot(epochs, history['val_top3'], label='test_f1')\n",
    "    plt.xlabel('Эпоха')\n",
    "    plt.ylabel('Test Top3')\n",
    "    plt.title('Test Top3-score')\n",
    "    plt.legend()\n",
    "    plt.show()"
   ],
   "id": "3e20d82b44a30122",
   "outputs": [],
   "execution_count": 78
  },
  {
   "metadata": {
    "ExecuteTime": {
     "end_time": "2025-05-26T01:12:03.021937Z",
     "start_time": "2025-05-26T01:12:02.997848Z"
    }
   },
   "cell_type": "code",
   "source": [
    "class StyleNet(nn.Module):\n",
    "    def __init__(self, cards, n_cls, emb_dim=10):\n",
    "        super().__init__()\n",
    "        self.em = nn.ModuleList(\n",
    "            [nn.Embedding(c+1, min(emb_dim, (c+1)//2)) for c in cards]\n",
    "        )\n",
    "        h = sum(e.embedding_dim for e in self.em)\n",
    "\n",
    "        self.net = nn.Sequential(\n",
    "            nn.LayerNorm(h),\n",
    "            nn.Dropout(0.30),\n",
    "            nn.Linear(h, 128), nn.ReLU(),\n",
    "            nn.Linear(128, 256), nn.ReLU(),\n",
    "            nn.Dropout(0.30),\n",
    "            nn.Linear(256, n_cls)\n",
    "        )\n",
    "\n",
    "    def forward(self, x):\n",
    "        x = torch.cat([e(x[:, i]) for i, e in enumerate(self.em)], 1)\n",
    "        return self.net(x)\n",
    "\n",
    "cardinalities = [int(cat.max() + 1) for cat in ord_enc.transform(df[cat_cols]).T]\n",
    "n_classes = len(lbl_enc.classes_)\n",
    "model2 = StyleNet(cardinalities, n_classes).to(DEVICE)\n",
    "opt    = torch.optim.AdamW(model2.parameters(), lr=1e-3, weight_decay=3e-3)\n",
    "sched  = torch.optim.lr_scheduler.ReduceLROnPlateau(opt, factor=.3, patience=3)\n",
    "crit   = nn.CrossEntropyLoss(label_smoothing=0.05)"
   ],
   "id": "a9342ec396608b5b",
   "outputs": [],
   "execution_count": 46
  },
  {
   "metadata": {
    "ExecuteTime": {
     "end_time": "2025-05-26T01:12:30.872598Z",
     "start_time": "2025-05-26T01:12:03.313461Z"
    }
   },
   "cell_type": "code",
   "source": [
    "history2 = train_with_top3(model2, train_loader, test_loader,\n",
    "                          crit, opt, scheduler=sched,\n",
    "                          epochs=50, device=DEVICE)"
   ],
   "id": "df04dc7766557612",
   "outputs": [
    {
     "name": "stderr",
     "output_type": "stream",
     "text": [
      "                                                            \r"
     ]
    },
    {
     "name": "stdout",
     "output_type": "stream",
     "text": [
      "Ep 01 | loss T/V 2.050/1.682 | acc T/V 0.306/0.488 | F1 0.355 | Top-3 0.796\n"
     ]
    },
    {
     "name": "stderr",
     "output_type": "stream",
     "text": [
      "                                                            \r"
     ]
    },
    {
     "name": "stdout",
     "output_type": "stream",
     "text": [
      "Ep 02 | loss T/V 1.783/1.561 | acc T/V 0.406/0.519 | F1 0.406 | Top-3 0.849\n"
     ]
    },
    {
     "name": "stderr",
     "output_type": "stream",
     "text": [
      "                                                            \r"
     ]
    },
    {
     "name": "stdout",
     "output_type": "stream",
     "text": [
      "Ep 03 | loss T/V 1.707/1.489 | acc T/V 0.432/0.541 | F1 0.431 | Top-3 0.852\n"
     ]
    },
    {
     "name": "stderr",
     "output_type": "stream",
     "text": [
      "                                                            \r"
     ]
    },
    {
     "name": "stdout",
     "output_type": "stream",
     "text": [
      "Ep 04 | loss T/V 1.672/1.456 | acc T/V 0.449/0.578 | F1 0.485 | Top-3 0.850\n"
     ]
    },
    {
     "name": "stderr",
     "output_type": "stream",
     "text": [
      "                                                            \r"
     ]
    },
    {
     "name": "stdout",
     "output_type": "stream",
     "text": [
      "Ep 05 | loss T/V 1.630/1.444 | acc T/V 0.469/0.562 | F1 0.471 | Top-3 0.857\n"
     ]
    },
    {
     "name": "stderr",
     "output_type": "stream",
     "text": [
      "                                                            \r"
     ]
    },
    {
     "name": "stdout",
     "output_type": "stream",
     "text": [
      "Ep 06 | loss T/V 1.616/1.439 | acc T/V 0.480/0.556 | F1 0.466 | Top-3 0.864\n"
     ]
    },
    {
     "name": "stderr",
     "output_type": "stream",
     "text": [
      "                                                            \r"
     ]
    },
    {
     "name": "stdout",
     "output_type": "stream",
     "text": [
      "Ep 07 | loss T/V 1.580/1.410 | acc T/V 0.482/0.585 | F1 0.503 | Top-3 0.870\n"
     ]
    },
    {
     "name": "stderr",
     "output_type": "stream",
     "text": [
      "                                                            \r"
     ]
    },
    {
     "name": "stdout",
     "output_type": "stream",
     "text": [
      "Ep 08 | loss T/V 1.566/1.393 | acc T/V 0.493/0.574 | F1 0.476 | Top-3 0.878\n"
     ]
    },
    {
     "name": "stderr",
     "output_type": "stream",
     "text": [
      "                                                            \r"
     ]
    },
    {
     "name": "stdout",
     "output_type": "stream",
     "text": [
      "Ep 09 | loss T/V 1.554/1.398 | acc T/V 0.512/0.578 | F1 0.487 | Top-3 0.874\n"
     ]
    },
    {
     "name": "stderr",
     "output_type": "stream",
     "text": [
      "                                                            \r"
     ]
    },
    {
     "name": "stdout",
     "output_type": "stream",
     "text": [
      "Ep 10 | loss T/V 1.536/1.388 | acc T/V 0.500/0.575 | F1 0.481 | Top-3 0.873\n"
     ]
    },
    {
     "name": "stderr",
     "output_type": "stream",
     "text": [
      "                                                            \r"
     ]
    },
    {
     "name": "stdout",
     "output_type": "stream",
     "text": [
      "Ep 11 | loss T/V 1.529/1.389 | acc T/V 0.509/0.573 | F1 0.480 | Top-3 0.884\n"
     ]
    },
    {
     "name": "stderr",
     "output_type": "stream",
     "text": [
      "                                                            \r"
     ]
    },
    {
     "name": "stdout",
     "output_type": "stream",
     "text": [
      "Ep 12 | loss T/V 1.511/1.382 | acc T/V 0.510/0.571 | F1 0.495 | Top-3 0.884\n"
     ]
    },
    {
     "name": "stderr",
     "output_type": "stream",
     "text": [
      "                                                            \r"
     ]
    },
    {
     "name": "stdout",
     "output_type": "stream",
     "text": [
      "Ep 13 | loss T/V 1.503/1.367 | acc T/V 0.515/0.586 | F1 0.509 | Top-3 0.879\n"
     ]
    },
    {
     "name": "stderr",
     "output_type": "stream",
     "text": [
      "                                                            \r"
     ]
    },
    {
     "name": "stdout",
     "output_type": "stream",
     "text": [
      "Ep 14 | loss T/V 1.499/1.361 | acc T/V 0.524/0.580 | F1 0.504 | Top-3 0.889\n"
     ]
    },
    {
     "name": "stderr",
     "output_type": "stream",
     "text": [
      "                                                            \r"
     ]
    },
    {
     "name": "stdout",
     "output_type": "stream",
     "text": [
      "Ep 15 | loss T/V 1.487/1.353 | acc T/V 0.528/0.589 | F1 0.513 | Top-3 0.881\n"
     ]
    },
    {
     "name": "stderr",
     "output_type": "stream",
     "text": [
      "                                                            \r"
     ]
    },
    {
     "name": "stdout",
     "output_type": "stream",
     "text": [
      "Ep 16 | loss T/V 1.462/1.370 | acc T/V 0.533/0.579 | F1 0.508 | Top-3 0.881\n"
     ]
    },
    {
     "name": "stderr",
     "output_type": "stream",
     "text": [
      "                                                            \r"
     ]
    },
    {
     "name": "stdout",
     "output_type": "stream",
     "text": [
      "Ep 17 | loss T/V 1.476/1.356 | acc T/V 0.530/0.587 | F1 0.512 | Top-3 0.879\n"
     ]
    },
    {
     "name": "stderr",
     "output_type": "stream",
     "text": [
      "                                                            \r"
     ]
    },
    {
     "name": "stdout",
     "output_type": "stream",
     "text": [
      "Ep 18 | loss T/V 1.457/1.350 | acc T/V 0.544/0.595 | F1 0.517 | Top-3 0.887\n"
     ]
    },
    {
     "name": "stderr",
     "output_type": "stream",
     "text": [
      "                                                            \r"
     ]
    },
    {
     "name": "stdout",
     "output_type": "stream",
     "text": [
      "Ep 19 | loss T/V 1.471/1.357 | acc T/V 0.540/0.588 | F1 0.509 | Top-3 0.885\n"
     ]
    },
    {
     "name": "stderr",
     "output_type": "stream",
     "text": [
      "                                                            \r"
     ]
    },
    {
     "name": "stdout",
     "output_type": "stream",
     "text": [
      "Ep 20 | loss T/V 1.457/1.346 | acc T/V 0.537/0.584 | F1 0.519 | Top-3 0.894\n"
     ]
    },
    {
     "name": "stderr",
     "output_type": "stream",
     "text": [
      "                                                            \r"
     ]
    },
    {
     "name": "stdout",
     "output_type": "stream",
     "text": [
      "Ep 21 | loss T/V 1.463/1.357 | acc T/V 0.538/0.579 | F1 0.494 | Top-3 0.887\n"
     ]
    },
    {
     "name": "stderr",
     "output_type": "stream",
     "text": [
      "                                                            \r"
     ]
    },
    {
     "name": "stdout",
     "output_type": "stream",
     "text": [
      "Ep 22 | loss T/V 1.447/1.352 | acc T/V 0.539/0.581 | F1 0.510 | Top-3 0.886\n"
     ]
    },
    {
     "name": "stderr",
     "output_type": "stream",
     "text": [
      "                                                            \r"
     ]
    },
    {
     "name": "stdout",
     "output_type": "stream",
     "text": [
      "Ep 23 | loss T/V 1.444/1.354 | acc T/V 0.539/0.591 | F1 0.535 | Top-3 0.892\n"
     ]
    },
    {
     "name": "stderr",
     "output_type": "stream",
     "text": [
      "                                                            \r"
     ]
    },
    {
     "name": "stdout",
     "output_type": "stream",
     "text": [
      "Ep 24 | loss T/V 1.439/1.359 | acc T/V 0.548/0.594 | F1 0.528 | Top-3 0.892\n"
     ]
    },
    {
     "name": "stderr",
     "output_type": "stream",
     "text": [
      "                                                            \r"
     ]
    },
    {
     "name": "stdout",
     "output_type": "stream",
     "text": [
      "Ep 25 | loss T/V 1.413/1.340 | acc T/V 0.553/0.586 | F1 0.517 | Top-3 0.891\n"
     ]
    },
    {
     "name": "stderr",
     "output_type": "stream",
     "text": [
      "                                                            \r"
     ]
    },
    {
     "name": "stdout",
     "output_type": "stream",
     "text": [
      "Ep 26 | loss T/V 1.407/1.335 | acc T/V 0.555/0.589 | F1 0.526 | Top-3 0.897\n"
     ]
    },
    {
     "name": "stderr",
     "output_type": "stream",
     "text": [
      "                                                            \r"
     ]
    },
    {
     "name": "stdout",
     "output_type": "stream",
     "text": [
      "Ep 27 | loss T/V 1.414/1.337 | acc T/V 0.560/0.592 | F1 0.527 | Top-3 0.892\n"
     ]
    },
    {
     "name": "stderr",
     "output_type": "stream",
     "text": [
      "                                                            \r"
     ]
    },
    {
     "name": "stdout",
     "output_type": "stream",
     "text": [
      "Ep 28 | loss T/V 1.410/1.337 | acc T/V 0.557/0.593 | F1 0.534 | Top-3 0.892\n"
     ]
    },
    {
     "name": "stderr",
     "output_type": "stream",
     "text": [
      "                                                            \r"
     ]
    },
    {
     "name": "stdout",
     "output_type": "stream",
     "text": [
      "Ep 29 | loss T/V 1.403/1.339 | acc T/V 0.554/0.585 | F1 0.525 | Top-3 0.895\n"
     ]
    },
    {
     "name": "stderr",
     "output_type": "stream",
     "text": [
      "                                                            \r"
     ]
    },
    {
     "name": "stdout",
     "output_type": "stream",
     "text": [
      "Ep 30 | loss T/V 1.388/1.336 | acc T/V 0.566/0.586 | F1 0.521 | Top-3 0.892\n"
     ]
    },
    {
     "name": "stderr",
     "output_type": "stream",
     "text": [
      "                                                            \r"
     ]
    },
    {
     "name": "stdout",
     "output_type": "stream",
     "text": [
      "Ep 31 | loss T/V 1.382/1.330 | acc T/V 0.572/0.588 | F1 0.528 | Top-3 0.893\n"
     ]
    },
    {
     "name": "stderr",
     "output_type": "stream",
     "text": [
      "                                                            \r"
     ]
    },
    {
     "name": "stdout",
     "output_type": "stream",
     "text": [
      "Ep 32 | loss T/V 1.402/1.331 | acc T/V 0.553/0.588 | F1 0.527 | Top-3 0.895\n"
     ]
    },
    {
     "name": "stderr",
     "output_type": "stream",
     "text": [
      "                                                            \r"
     ]
    },
    {
     "name": "stdout",
     "output_type": "stream",
     "text": [
      "Ep 33 | loss T/V 1.386/1.330 | acc T/V 0.573/0.593 | F1 0.535 | Top-3 0.896\n"
     ]
    },
    {
     "name": "stderr",
     "output_type": "stream",
     "text": [
      "                                                            \r"
     ]
    },
    {
     "name": "stdout",
     "output_type": "stream",
     "text": [
      "Ep 34 | loss T/V 1.375/1.330 | acc T/V 0.572/0.593 | F1 0.536 | Top-3 0.897\n"
     ]
    },
    {
     "name": "stderr",
     "output_type": "stream",
     "text": [
      "                                                            \r"
     ]
    },
    {
     "name": "stdout",
     "output_type": "stream",
     "text": [
      "Ep 35 | loss T/V 1.384/1.331 | acc T/V 0.565/0.592 | F1 0.536 | Top-3 0.892\n"
     ]
    },
    {
     "name": "stderr",
     "output_type": "stream",
     "text": [
      "                                                            \r"
     ]
    },
    {
     "name": "stdout",
     "output_type": "stream",
     "text": [
      "Ep 36 | loss T/V 1.386/1.330 | acc T/V 0.560/0.592 | F1 0.537 | Top-3 0.892\n"
     ]
    },
    {
     "name": "stderr",
     "output_type": "stream",
     "text": [
      "                                                            \r"
     ]
    },
    {
     "name": "stdout",
     "output_type": "stream",
     "text": [
      "Ep 37 | loss T/V 1.383/1.331 | acc T/V 0.567/0.588 | F1 0.531 | Top-3 0.894\n"
     ]
    },
    {
     "name": "stderr",
     "output_type": "stream",
     "text": [
      "                                                            \r"
     ]
    },
    {
     "name": "stdout",
     "output_type": "stream",
     "text": [
      "Ep 38 | loss T/V 1.361/1.330 | acc T/V 0.568/0.590 | F1 0.527 | Top-3 0.893\n"
     ]
    },
    {
     "name": "stderr",
     "output_type": "stream",
     "text": [
      "                                                            "
     ]
    },
    {
     "name": "stdout",
     "output_type": "stream",
     "text": [
      "Ep 39 | loss T/V 1.371/1.330 | acc T/V 0.567/0.592 | F1 0.536 | Top-3 0.893\n",
      "⏹ early stopping\n"
     ]
    },
    {
     "name": "stderr",
     "output_type": "stream",
     "text": [
      "\r"
     ]
    }
   ],
   "execution_count": 47
  },
  {
   "metadata": {
    "ExecuteTime": {
     "end_time": "2025-05-26T02:34:02.030472Z",
     "start_time": "2025-05-26T02:34:01.726713Z"
    }
   },
   "cell_type": "code",
   "source": "plot_history(history2)",
   "id": "a4a4960f24aa2527",
   "outputs": [
    {
     "data": {
      "text/plain": [
       "<Figure size 640x480 with 1 Axes>"
      ],
      "image/png": "[encoded data removed]"
     },
     "metadata": {},
     "output_type": "display_data"
    },
    {
     "data": {
      "text/plain": [
       "<Figure size 640x480 with 1 Axes>"
      ],
      "image/png": "[encoded data removed]"
     },
     "metadata": {},
     "output_type": "display_data"
    },
    {
     "data": {
      "text/plain": [
       "<Figure size 640x480 with 1 Axes>"
      ],
      "image/png": "[encoded data removed]"
     },
     "metadata": {},
     "output_type": "display_data"
    }
   ],
   "execution_count": 79
  },
  {
   "metadata": {
    "ExecuteTime": {
     "end_time": "2025-05-26T03:07:28.413550Z",
     "start_time": "2025-05-26T03:07:28.406528Z"
    }
   },
   "cell_type": "code",
   "source": [
    "torch.save({'state_dict': model2.state_dict(),\n",
    "            'cardinalities': cardinalities}, \"../artifacts/stylenet.pt\")\n",
    "#pd.DataFrame(history).to_csv(\"ml/artifacts/train_log.csv\", index=False)\n",
    "#print(\"done; weights & log saved\")"
   ],
   "id": "82a55e5141d2c504",
   "outputs": [],
   "execution_count": 81
  },
  {
   "metadata": {},
   "cell_type": "code",
   "outputs": [],
   "execution_count": null,
   "source": "",
   "id": "a91f8350a49b6132"
  }
 ],
 "metadata": {
  "kernelspec": {
   "display_name": "Python 3",
   "language": "python",
   "name": "python3"
  },
  "language_info": {
   "codemirror_mode": {
    "name": "ipython",
    "version": 2
   },
   "file_extension": ".py",
   "mimetype": "text/x-python",
   "name": "python",
   "nbconvert_exporter": "python",
   "pygments_lexer": "ipython2",
   "version": "2.7.6"
  }
 },
 "nbformat": 4,
 "nbformat_minor": 5
}
